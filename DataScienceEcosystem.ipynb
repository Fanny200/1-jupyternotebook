{
 "cells": [
  {
   "cell_type": "markdown",
   "id": "2b0fcf47-7ebf-45af-a5ad-1b66de9ba8b9",
   "metadata": {},
   "source": [
    "# Data Science Tools and Ecosystem"
   ]
  },
  {
   "cell_type": "markdown",
   "id": "61333d8f-c963-474b-bf44-bb2e076b5568",
   "metadata": {},
   "source": [
    "## In this notebook, Data Science Tools and Ecosystem are summarized."
   ]
  },
  {
   "cell_type": "markdown",
   "id": "434bb5e0-f542-43b2-853c-a427e7a2cece",
   "metadata": {},
   "source": [
    "#### Some of the popular languages that Data Scientists use are:\n",
    "\n",
    "1. python\n",
    "2. R programming\n",
    "3. Julia\n",
    "4. Sql\n",
    "5. Sala"
   ]
  },
  {
   "cell_type": "markdown",
   "id": "ec6142d0-0fd1-4283-bcc7-832048b194e1",
   "metadata": {},
   "source": [
    "#### Some of the commonly used libraries used by Data Scientists include:\n",
    "\n",
    "1. Numpy\n",
    "2. matplotlib\n",
    "3. Seaborn\n",
    "4. Pandas\n",
    "5. Scikit Learn\n",
    "6. PyTorch\n",
    "7. Tensor flow"
   ]
  },
  {
   "cell_type": "markdown",
   "id": "f166a733-7c5f-4059-8cb5-f17c64c0c13c",
   "metadata": {},
   "source": [
    "#### Data Science Tools\n",
    "\n",
    "| Data Science Tools |\n",
    "|--------------------|\n",
    "|Jupyter|\n",
    "|RStudio|\n",
    "|Apache Zeppelin|"
   ]
  },
  {
   "cell_type": "markdown",
   "id": "129e8033-e77e-475a-a16e-32d71c4de864",
   "metadata": {},
   "source": [
    "### Below are a few examples of evaluating arithmetic expressions in Python."
   ]
  },
  {
   "cell_type": "code",
   "execution_count": 1,
   "id": "b1d53823-26e1-4488-8b31-f0c5609d5d98",
   "metadata": {},
   "outputs": [
    {
     "data": {
      "text/plain": [
       "17"
      ]
     },
     "execution_count": 1,
     "metadata": {},
     "output_type": "execute_result"
    }
   ],
   "source": [
    "#This a simple arithmetic expression to mutiply then add integers.\n",
    "multiply = (3*4)+5\n",
    "multiply"
   ]
  },
  {
   "cell_type": "code",
   "execution_count": 2,
   "id": "d3a82fe6-2179-4c3d-b6d4-576a019cf3ab",
   "metadata": {},
   "outputs": [
    {
     "data": {
      "text/plain": [
       "3.3333333333333335"
      ]
     },
     "execution_count": 2,
     "metadata": {},
     "output_type": "execute_result"
    }
   ],
   "source": [
    "#his will convert 200 minutes to hours by diving by 60.\n",
    "hours = 200/60\n",
    "hours"
   ]
  },
  {
   "cell_type": "markdown",
   "id": "0263825c-e006-4987-9d7f-1c4f203b8448",
   "metadata": {},
   "source": [
    "### **Objectives:**  \n",
    "\n",
    "In this notebook, we covered the following key topics:  \n",
    "\n",
    "- 📌 List popular languages for Data Science  \n",
    "- 📌 Identify commonly used Data Science libraries  \n",
    "- 📌 Explore Data Science tools and development environments  \n",
    "- 📌 Convert time units using Python expressions  \n",
    "- 📌 Create tables and lists using Markdown in Jupyter Notebook  \n"
   ]
  },
  {
   "cell_type": "markdown",
   "id": "92169e9e-ff21-4054-895a-d854e31e4563",
   "metadata": {},
   "source": [
    "## Author\n",
    "\n",
    "Fanny Namondo Ngomba\n"
   ]
  },
  {
   "cell_type": "code",
   "execution_count": null,
   "id": "118f7589-7c04-4a24-b380-0dbe441ab65a",
   "metadata": {},
   "outputs": [],
   "source": []
  }
 ],
 "metadata": {
  "kernelspec": {
   "display_name": "Python 3 (ipykernel)",
   "language": "python",
   "name": "python3"
  },
  "language_info": {
   "codemirror_mode": {
    "name": "ipython",
    "version": 3
   },
   "file_extension": ".py",
   "mimetype": "text/x-python",
   "name": "python",
   "nbconvert_exporter": "python",
   "pygments_lexer": "ipython3",
   "version": "3.12.8"
  }
 },
 "nbformat": 4,
 "nbformat_minor": 5
}
